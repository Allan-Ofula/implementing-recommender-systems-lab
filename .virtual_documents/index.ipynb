








import pandas as pd
df = pd.read_csv('./ml-latest-small/ratings.csv')
df.info()


# Drop unnecessary columns
new_df = df.drop(columns=['timestamp'])


# Inspect the new DataFrame
new_df.head()





from surprise import Reader, Dataset
# read in values as Surprise dataset 

# Defining the rating scale 
reader = Reader(rating_scale=(new_df.rating.min(), new_df.rating.max()))

# Loading the data into Surprise format
data = Dataset.load_from_df(new_df[['userId', 'movieId', 'rating']], reader)





dataset = data.build_full_trainset()
print('Number of users: ', dataset.n_users, '\n')
print('Number of items: ', dataset.n_items)





# importing relevant libraries
from surprise.model_selection import cross_validate
from surprise.prediction_algorithms import SVD
from surprise.prediction_algorithms import KNNWithMeans, KNNBasic, KNNBaseline
from surprise.model_selection import GridSearchCV
import numpy as np


## Perform a gridsearch with SVD
# ⏰ This cell may take several minutes to run
from surprise import SVD

# GridSearch with SVD
param_grid = {
    'n_factors': [50, 100],
    'lr_all': [0.005, 0.010],
    'reg_all': [0.02, 0.1]
}

gs_svd = GridSearchCV(SVD, param_grid, measures=['rmse'], cv=5)
gs_svd.fit(data)

print("✅ GridSearch for SVD complete.")


# print out optimal parameters for SVD after GridSearch

print("Best RMSE score (SVD):", gs_svd.best_score['rmse'])
print("Best parameters (SVD):", gs_svd.best_params['rmse'])


# cross validating with KNNBasic

algo_knn_basic = KNNBasic()
cv_knn_basic = cross_validate(algo_knn_basic, data, measures=['RMSE'], cv=5, verbose=True)


# print out the average RMSE score for the test set

# Average RMSE for KNNBasic
avg_rmse_knn_basic = np.mean(cv_knn_basic['test_rmse'])
print("Average RMSE (KNNBasic):", avg_rmse_knn_basic)


# cross validating with KNNBaseline

algo_knn_baseline = KNNBaseline()
cv_knn_baseline = cross_validate(algo_knn_baseline, data, measures=['RMSE'], cv=5, verbose=True)


# print out the average score for the test set

# Average RMSE for KNNBaseline
avg_rmse_knn_baseline = np.mean(cv_knn_baseline['test_rmse'])
print("Average RMSE (KNNBaseline):", avg_rmse_knn_baseline)








df_movies = pd.read_csv('./ml-latest-small/movies.csv')


df_movies.head()





svd = SVD(n_factors= 50, reg_all=0.05)
svd.fit(dataset)


svd.predict(2, 4)








# Step-by-step movie_rater() Implementation

import random

def movie_rater(movie_df, num=5, genre=None):
    """
    Randomly sample movies and collect user ratings.
    
    Parameters:
        movie_df (DataFrame): DataFrame with movieId, title, and genres
        num (int): Number of movies to rate
        genre (str): If specified, filter movies by genre
    
    Returns:
        List of dictionaries with structure: {'userId': 999, 'movieId': int, 'rating': float}
    """
    rating_list = []

    # Filter by genre if specified
    if genre:
        filtered_df = movie_df[movie_df['genres'].str.contains(genre, case=False, na=False)]
    else:
        filtered_df = movie_df

    # Randomly sample 'num' movies
    sample_movies = filtered_df.sample(n=num)

    print("\nPlease rate the following movies (1 to 5 stars). Enter 0 if you haven't watched it.\n")
    
    for idx, row in sample_movies.iterrows():
        print(f"🎬 {row['title']} [{row['genres']}]")
        try:
            rating = float(input("Your rating (0 if not seen): "))
        except ValueError:
            rating = 0.0

        if rating > 0:
            rating_list.append({'userId': 999, 'movieId': int(row['movieId']), 'rating': rating})
        print()  # Add space

    return rating_list


# try out the new function here!

my_ratings = movie_rater(df_movies, num=5, genre='Comedy')
print(my_ratings)











## add the new ratings to the original ratings DataFrame

# Assuming original ratings DataFrame is df_ratings
df_ratings = pd.read_csv('./ml-latest-small/ratings.csv')  

# Suppose your `my_ratings` is a list of dicts from movie_rater()
# Convert it to a DataFrame
df_new_ratings = pd.DataFrame(my_ratings)

# Combine with the original ratings
df_combined = pd.concat([df_ratings, df_new_ratings], ignore_index=True)


# train a model using the new combined DataFrame

from surprise import Dataset, Reader

# Defining a reader object
reader = Reader(rating_scale=(0.5, 5.0))

# Loading data from DataFrame
data_combined = Dataset.load_from_df(df_combined[['userId', 'movieId', 'rating']], reader)

# Building trainset
trainset = data_combined.build_full_trainset()

# Retraining the model
svd_updated = SVD(n_factors=50, reg_all=0.05)
svd_updated.fit(trainset)


# make predictions for the user
# you'll probably want to create a list of tuples in the format (movie_id, predicted_score)

# Getting all movie IDs
all_movie_ids = df_movies['movieId'].unique()

# Finding movies the new user hasn't rated yet
rated_movie_ids = df_new_ratings['movieId'].values
unseen_movies = [movie_id for movie_id in all_movie_ids if movie_id not in rated_movie_ids]

# Predicting ratings for all unseen movies
predictions = [(movie_id, svd_updated.predict(999, movie_id).est) for movie_id in unseen_movies]


# order the predictions from highest to lowest rated

ranked_movies = ranked_movies = sorted(predictions, key=lambda x: x[1], reverse=True)





# return the top n recommendations using the 

# Creating recommended_movies() function
def recommended_movies(user_ratings, movie_title_df, n=5):
    """
    Prints top n recommended movies with titles.
    
    Parameters:
        user_ratings (list): List of (movieId, predicted_rating)
        movie_title_df (DataFrame): Movie metadata
        n (int): Number of movies to recommend
    """
    print(f"\n🎉 Top {n} Movie Recommendations for You:\n")
    count = 0
    for movie_id, score in user_ratings[:n]:
        title = movie_title_df[movie_title_df['movieId'] == movie_id]['title'].values
        if len(title) > 0:
            print(f"⭐ {title[0]} — Predicted Rating: {score:.2f}")
            count += 1
        if count >= n:
            break

recommended_movies(ranked_movies,df_movies,5)





# Full Recommender System by Genre

import pandas as pd
import random
from surprise import SVD, Dataset, Reader
from surprise.model_selection import cross_validate

# Loading movie metadata
df_movies = pd.read_csv('./ml-latest-small/movies.csv')
df_ratings = pd.read_csv('./ml-latest-small/ratings.csv')

def movie_rater(movie_df, num=5, genre=None):
    """
    Presents a user with random movies from a genre and asks for ratings.
    """
    if genre:
        movie_df = movie_df[movie_df['genres'].str.contains(genre, case=False, na=False)]

    selected_movies = movie_df.sample(num)
    ratings = []

    print(f"\n🎬 Rate the following {num} {genre} movies (skip by pressing Enter):\n")

    for _, row in selected_movies.iterrows():
        try:
            user_input = input(f"How would you rate '{row['title']}' (0.5 to 5)? ")
            if user_input.strip() == '':
                continue
            rating = float(user_input)
            if 0.5 <= rating <= 5.0:
                ratings.append({'userId': 999, 'movieId': int(row['movieId']), 'rating': rating})
        except ValueError:
            print("❌ Invalid input. Skipping this movie.")
            continue

    return ratings

def genre_recommender_system(num_ratings=5, genre='Comedy', top_n=5):
    """
    Main function: asks user for movie ratings, retrains model, and recommends movies of a chosen genre.
    """
    # Getting user ratings
    user_ratings = movie_rater(df_movies, num=num_ratings, genre=genre)

    if not user_ratings:
        print("⚠️ No ratings provided. Cannot make recommendations.")
        return

    df_new_ratings = pd.DataFrame(user_ratings)
    
    # CombinIing with original ratings
    df_combined = pd.concat([df_ratings, df_new_ratings], ignore_index=True)

    # Training model
    reader = Reader(rating_scale=(0.5, 5.0))
    data = Dataset.load_from_df(df_combined[['userId', 'movieId', 'rating']], reader)
    trainset = data.build_full_trainset()

    svd = SVD(n_factors=50, reg_all=0.05)
    svd.fit(trainset)

    # Predicting on unseen movies from the same genre
    seen_movies = df_new_ratings['movieId'].unique()
    genre_movies = df_movies[df_movies['genres'].str.contains(genre, case=False, na=False)]
    unseen_movies = genre_movies[~genre_movies['movieId'].isin(seen_movies)]

    predictions = []
    for movie_id in unseen_movies['movieId'].values:
        est_rating = svd.predict(999, movie_id).est
        predictions.append((movie_id, est_rating))

    # Sorting predictions and display top N
    ranked_movies = sorted(predictions, key=lambda x: x[1], reverse=True)[:top_n]

    print(f"\n🎯 Top {top_n} Recommended {genre} Movies for You:\n")
    for movie_id, rating in ranked_movies:
        title = df_movies.loc[df_movies['movieId'] == movie_id, 'title'].values[0]
        print(f"⭐ {title} — Predicted Rating: {rating:.2f}")

# Example:
genre_recommender_system(num_ratings=5, genre='Action', top_n=5)



