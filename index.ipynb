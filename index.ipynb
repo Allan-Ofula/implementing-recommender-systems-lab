{
 "cells": [
  {
   "cell_type": "markdown",
   "metadata": {},
   "source": [
    "# Implementing Recommender Systems - Lab\n",
    "\n",
    "## Introduction\n",
    "\n",
    "In this lab, you'll practice creating a recommender system model using `surprise`. You'll also get the chance to create a more complete recommender system pipeline to obtain the top recommendations for a specific user.\n"
   ]
  },
  {
   "cell_type": "markdown",
   "metadata": {},
   "source": [
    "## Objectives\n",
    "\n",
    "In this lab you will: \n",
    "\n",
    "- Use surprise's built-in reader class to process data to work with recommender algorithms \n",
    "- Obtain a prediction for a specific user for a particular item \n",
    "- Introduce a new user with rating to a rating matrix and make recommendations for them \n",
    "- Create a function that will return the top n recommendations for a user \n"
   ]
  },
  {
   "cell_type": "markdown",
   "metadata": {},
   "source": [
    "For this lab, we will be using the famous 1M movie dataset. It contains a collection of user ratings for many different movies. In the last lesson, you were exposed to working with `surprise` datasets. In this lab, you will also go through the process of reading in a dataset into the `surprise` dataset format. To begin with, load the dataset into a Pandas DataFrame. Determine which columns are necessary for your recommendation system and drop any extraneous ones."
   ]
  },
  {
   "cell_type": "code",
   "execution_count": 4,
   "metadata": {},
   "outputs": [
    {
     "name": "stdout",
     "output_type": "stream",
     "text": [
      "<class 'pandas.core.frame.DataFrame'>\n",
      "RangeIndex: 100836 entries, 0 to 100835\n",
      "Data columns (total 4 columns):\n",
      " #   Column     Non-Null Count   Dtype  \n",
      "---  ------     --------------   -----  \n",
      " 0   userId     100836 non-null  int64  \n",
      " 1   movieId    100836 non-null  int64  \n",
      " 2   rating     100836 non-null  float64\n",
      " 3   timestamp  100836 non-null  int64  \n",
      "dtypes: float64(1), int64(3)\n",
      "memory usage: 3.1 MB\n"
     ]
    }
   ],
   "source": [
    "import pandas as pd\n",
    "df = pd.read_csv('./ml-latest-small/ratings.csv')\n",
    "df.info()"
   ]
  },
  {
   "cell_type": "code",
   "execution_count": 5,
   "metadata": {},
   "outputs": [],
   "source": [
    "# Drop unnecessary columns\n",
    "new_df = df.drop(columns=['timestamp'])"
   ]
  },
  {
   "cell_type": "code",
   "execution_count": 6,
   "metadata": {},
   "outputs": [
    {
     "data": {
      "text/html": [
       "<div>\n",
       "<style scoped>\n",
       "    .dataframe tbody tr th:only-of-type {\n",
       "        vertical-align: middle;\n",
       "    }\n",
       "\n",
       "    .dataframe tbody tr th {\n",
       "        vertical-align: top;\n",
       "    }\n",
       "\n",
       "    .dataframe thead th {\n",
       "        text-align: right;\n",
       "    }\n",
       "</style>\n",
       "<table border=\"1\" class=\"dataframe\">\n",
       "  <thead>\n",
       "    <tr style=\"text-align: right;\">\n",
       "      <th></th>\n",
       "      <th>userId</th>\n",
       "      <th>movieId</th>\n",
       "      <th>rating</th>\n",
       "    </tr>\n",
       "  </thead>\n",
       "  <tbody>\n",
       "    <tr>\n",
       "      <th>0</th>\n",
       "      <td>1</td>\n",
       "      <td>1</td>\n",
       "      <td>4.0</td>\n",
       "    </tr>\n",
       "    <tr>\n",
       "      <th>1</th>\n",
       "      <td>1</td>\n",
       "      <td>3</td>\n",
       "      <td>4.0</td>\n",
       "    </tr>\n",
       "    <tr>\n",
       "      <th>2</th>\n",
       "      <td>1</td>\n",
       "      <td>6</td>\n",
       "      <td>4.0</td>\n",
       "    </tr>\n",
       "    <tr>\n",
       "      <th>3</th>\n",
       "      <td>1</td>\n",
       "      <td>47</td>\n",
       "      <td>5.0</td>\n",
       "    </tr>\n",
       "    <tr>\n",
       "      <th>4</th>\n",
       "      <td>1</td>\n",
       "      <td>50</td>\n",
       "      <td>5.0</td>\n",
       "    </tr>\n",
       "  </tbody>\n",
       "</table>\n",
       "</div>"
      ],
      "text/plain": [
       "   userId  movieId  rating\n",
       "0       1        1     4.0\n",
       "1       1        3     4.0\n",
       "2       1        6     4.0\n",
       "3       1       47     5.0\n",
       "4       1       50     5.0"
      ]
     },
     "execution_count": 6,
     "metadata": {},
     "output_type": "execute_result"
    }
   ],
   "source": [
    "# Inspect the new DataFrame\n",
    "new_df.head()"
   ]
  },
  {
   "cell_type": "markdown",
   "metadata": {},
   "source": [
    "It's now time to transform the dataset into something compatible with `surprise`. In order to do this, you're going to need `Reader` and `Dataset` classes. There's a method in `Dataset` specifically for loading dataframes."
   ]
  },
  {
   "cell_type": "code",
   "execution_count": 8,
   "metadata": {},
   "outputs": [],
   "source": [
    "from surprise import Reader, Dataset\n",
    "# read in values as Surprise dataset \n",
    "\n",
    "# Defining the rating scale \n",
    "reader = Reader(rating_scale=(new_df.rating.min(), new_df.rating.max()))\n",
    "\n",
    "# Loading the data into Surprise format\n",
    "data = Dataset.load_from_df(new_df[['userId', 'movieId', 'rating']], reader)"
   ]
  },
  {
   "cell_type": "markdown",
   "metadata": {},
   "source": [
    "Let's look at how many users and items we have in our dataset. If using neighborhood-based methods, this will help us determine whether or not we should perform user-user or item-item similarity"
   ]
  },
  {
   "cell_type": "code",
   "execution_count": 10,
   "metadata": {},
   "outputs": [
    {
     "name": "stdout",
     "output_type": "stream",
     "text": [
      "Number of users:  610 \n",
      "\n",
      "Number of items:  9724\n"
     ]
    }
   ],
   "source": [
    "dataset = data.build_full_trainset()\n",
    "print('Number of users: ', dataset.n_users, '\\n')\n",
    "print('Number of items: ', dataset.n_items)"
   ]
  },
  {
   "cell_type": "markdown",
   "metadata": {},
   "source": [
    "## Determine the best model \n",
    "\n",
    "Now, compare the different models and see which ones perform best. For consistency sake, use RMSE to evaluate models. Remember to cross-validate! Can you get a model with a higher average RMSE on test data than 0.869?"
   ]
  },
  {
   "cell_type": "code",
   "execution_count": 12,
   "metadata": {},
   "outputs": [],
   "source": [
    "# importing relevant libraries\n",
    "from surprise.model_selection import cross_validate\n",
    "from surprise.prediction_algorithms import SVD\n",
    "from surprise.prediction_algorithms import KNNWithMeans, KNNBasic, KNNBaseline\n",
    "from surprise.model_selection import GridSearchCV\n",
    "import numpy as np"
   ]
  },
  {
   "cell_type": "code",
   "execution_count": 13,
   "metadata": {},
   "outputs": [
    {
     "name": "stdout",
     "output_type": "stream",
     "text": [
      "✅ GridSearch for SVD complete.\n"
     ]
    }
   ],
   "source": [
    "## Perform a gridsearch with SVD\n",
    "# ⏰ This cell may take several minutes to run\n",
    "from surprise import SVD\n",
    "\n",
    "# GridSearch with SVD\n",
    "param_grid = {\n",
    "    'n_factors': [50, 100],\n",
    "    'lr_all': [0.005, 0.010],\n",
    "    'reg_all': [0.02, 0.1]\n",
    "}\n",
    "\n",
    "gs_svd = GridSearchCV(SVD, param_grid, measures=['rmse'], cv=5)\n",
    "gs_svd.fit(data)\n",
    "\n",
    "print(\"✅ GridSearch for SVD complete.\")"
   ]
  },
  {
   "cell_type": "code",
   "execution_count": 14,
   "metadata": {},
   "outputs": [
    {
     "name": "stdout",
     "output_type": "stream",
     "text": [
      "Best RMSE score (SVD): 0.8621975588823085\n",
      "Best parameters (SVD): {'n_factors': 100, 'lr_all': 0.01, 'reg_all': 0.1}\n"
     ]
    }
   ],
   "source": [
    "# print out optimal parameters for SVD after GridSearch\n",
    "\n",
    "print(\"Best RMSE score (SVD):\", gs_svd.best_score['rmse'])\n",
    "print(\"Best parameters (SVD):\", gs_svd.best_params['rmse'])"
   ]
  },
  {
   "cell_type": "code",
   "execution_count": 15,
   "metadata": {},
   "outputs": [
    {
     "name": "stdout",
     "output_type": "stream",
     "text": [
      "Computing the msd similarity matrix...\n",
      "Done computing similarity matrix.\n",
      "Computing the msd similarity matrix...\n",
      "Done computing similarity matrix.\n",
      "Computing the msd similarity matrix...\n",
      "Done computing similarity matrix.\n",
      "Computing the msd similarity matrix...\n",
      "Done computing similarity matrix.\n",
      "Computing the msd similarity matrix...\n",
      "Done computing similarity matrix.\n",
      "Evaluating RMSE of algorithm KNNBasic on 5 split(s).\n",
      "\n",
      "                  Fold 1  Fold 2  Fold 3  Fold 4  Fold 5  Mean    Std     \n",
      "RMSE (testset)    0.9495  0.9331  0.9616  0.9477  0.9492  0.9482  0.0091  \n",
      "Fit time          0.23    0.19    0.18    0.18    0.27    0.21    0.04    \n",
      "Test time         1.04    1.23    1.19    1.25    1.19    1.18    0.07    \n"
     ]
    }
   ],
   "source": [
    "# cross validating with KNNBasic\n",
    "\n",
    "algo_knn_basic = KNNBasic()\n",
    "cv_knn_basic = cross_validate(algo_knn_basic, data, measures=['RMSE'], cv=5, verbose=True)"
   ]
  },
  {
   "cell_type": "code",
   "execution_count": 16,
   "metadata": {},
   "outputs": [
    {
     "name": "stdout",
     "output_type": "stream",
     "text": [
      "Average RMSE (KNNBasic): 0.948208751527855\n"
     ]
    }
   ],
   "source": [
    "# print out the average RMSE score for the test set\n",
    "\n",
    "# Average RMSE for KNNBasic\n",
    "avg_rmse_knn_basic = np.mean(cv_knn_basic['test_rmse'])\n",
    "print(\"Average RMSE (KNNBasic):\", avg_rmse_knn_basic)"
   ]
  },
  {
   "cell_type": "code",
   "execution_count": 17,
   "metadata": {},
   "outputs": [
    {
     "name": "stdout",
     "output_type": "stream",
     "text": [
      "Estimating biases using als...\n",
      "Computing the msd similarity matrix...\n",
      "Done computing similarity matrix.\n",
      "Estimating biases using als...\n",
      "Computing the msd similarity matrix...\n",
      "Done computing similarity matrix.\n",
      "Estimating biases using als...\n",
      "Computing the msd similarity matrix...\n",
      "Done computing similarity matrix.\n",
      "Estimating biases using als...\n",
      "Computing the msd similarity matrix...\n",
      "Done computing similarity matrix.\n",
      "Estimating biases using als...\n",
      "Computing the msd similarity matrix...\n",
      "Done computing similarity matrix.\n",
      "Evaluating RMSE of algorithm KNNBaseline on 5 split(s).\n",
      "\n",
      "                  Fold 1  Fold 2  Fold 3  Fold 4  Fold 5  Mean    Std     \n",
      "RMSE (testset)    0.8881  0.8755  0.8715  0.8670  0.8687  0.8741  0.0075  \n",
      "Fit time          0.42    0.44    0.45    0.52    0.43    0.45    0.04    \n",
      "Test time         1.35    1.30    1.43    1.41    1.50    1.40    0.07    \n"
     ]
    }
   ],
   "source": [
    "# cross validating with KNNBaseline\n",
    "\n",
    "algo_knn_baseline = KNNBaseline()\n",
    "cv_knn_baseline = cross_validate(algo_knn_baseline, data, measures=['RMSE'], cv=5, verbose=True)"
   ]
  },
  {
   "cell_type": "code",
   "execution_count": 18,
   "metadata": {},
   "outputs": [
    {
     "name": "stdout",
     "output_type": "stream",
     "text": [
      "Average RMSE (KNNBaseline): 0.8741418504580011\n"
     ]
    }
   ],
   "source": [
    "# print out the average score for the test set\n",
    "\n",
    "# Average RMSE for KNNBaseline\n",
    "avg_rmse_knn_baseline = np.mean(cv_knn_baseline['test_rmse'])\n",
    "print(\"Average RMSE (KNNBaseline):\", avg_rmse_knn_baseline)"
   ]
  },
  {
   "cell_type": "markdown",
   "metadata": {},
   "source": [
    "Based off these outputs, it seems like the best performing model is the SVD model with `n_factors = 50` and a regularization rate of 0.05. Use that model or if you found one that performs better, feel free to use that to make some predictions."
   ]
  },
  {
   "cell_type": "markdown",
   "metadata": {},
   "source": [
    "## Making Recommendations\n",
    "\n",
    "It's important that the output for the recommendation is interpretable to people. Rather than returning the `movie_id` values, it would be far more valuable to return the actual title of the movie. As a first step, let's read in the movies to a dataframe and take a peek at what information we have about them."
   ]
  },
  {
   "cell_type": "code",
   "execution_count": 21,
   "metadata": {},
   "outputs": [],
   "source": [
    "df_movies = pd.read_csv('./ml-latest-small/movies.csv')"
   ]
  },
  {
   "cell_type": "code",
   "execution_count": 22,
   "metadata": {
    "scrolled": true
   },
   "outputs": [
    {
     "data": {
      "text/html": [
       "<div>\n",
       "<style scoped>\n",
       "    .dataframe tbody tr th:only-of-type {\n",
       "        vertical-align: middle;\n",
       "    }\n",
       "\n",
       "    .dataframe tbody tr th {\n",
       "        vertical-align: top;\n",
       "    }\n",
       "\n",
       "    .dataframe thead th {\n",
       "        text-align: right;\n",
       "    }\n",
       "</style>\n",
       "<table border=\"1\" class=\"dataframe\">\n",
       "  <thead>\n",
       "    <tr style=\"text-align: right;\">\n",
       "      <th></th>\n",
       "      <th>movieId</th>\n",
       "      <th>title</th>\n",
       "      <th>genres</th>\n",
       "    </tr>\n",
       "  </thead>\n",
       "  <tbody>\n",
       "    <tr>\n",
       "      <th>0</th>\n",
       "      <td>1</td>\n",
       "      <td>Toy Story (1995)</td>\n",
       "      <td>Adventure|Animation|Children|Comedy|Fantasy</td>\n",
       "    </tr>\n",
       "    <tr>\n",
       "      <th>1</th>\n",
       "      <td>2</td>\n",
       "      <td>Jumanji (1995)</td>\n",
       "      <td>Adventure|Children|Fantasy</td>\n",
       "    </tr>\n",
       "    <tr>\n",
       "      <th>2</th>\n",
       "      <td>3</td>\n",
       "      <td>Grumpier Old Men (1995)</td>\n",
       "      <td>Comedy|Romance</td>\n",
       "    </tr>\n",
       "    <tr>\n",
       "      <th>3</th>\n",
       "      <td>4</td>\n",
       "      <td>Waiting to Exhale (1995)</td>\n",
       "      <td>Comedy|Drama|Romance</td>\n",
       "    </tr>\n",
       "    <tr>\n",
       "      <th>4</th>\n",
       "      <td>5</td>\n",
       "      <td>Father of the Bride Part II (1995)</td>\n",
       "      <td>Comedy</td>\n",
       "    </tr>\n",
       "  </tbody>\n",
       "</table>\n",
       "</div>"
      ],
      "text/plain": [
       "   movieId                               title  \\\n",
       "0        1                    Toy Story (1995)   \n",
       "1        2                      Jumanji (1995)   \n",
       "2        3             Grumpier Old Men (1995)   \n",
       "3        4            Waiting to Exhale (1995)   \n",
       "4        5  Father of the Bride Part II (1995)   \n",
       "\n",
       "                                        genres  \n",
       "0  Adventure|Animation|Children|Comedy|Fantasy  \n",
       "1                   Adventure|Children|Fantasy  \n",
       "2                               Comedy|Romance  \n",
       "3                         Comedy|Drama|Romance  \n",
       "4                                       Comedy  "
      ]
     },
     "execution_count": 22,
     "metadata": {},
     "output_type": "execute_result"
    }
   ],
   "source": [
    "df_movies.head()"
   ]
  },
  {
   "cell_type": "markdown",
   "metadata": {},
   "source": [
    "## Making simple predictions\n",
    "Just as a reminder, let's look at how you make a prediction for an individual user and item. First, we'll fit the SVD model we had from before."
   ]
  },
  {
   "cell_type": "code",
   "execution_count": 24,
   "metadata": {},
   "outputs": [
    {
     "data": {
      "text/plain": [
       "<surprise.prediction_algorithms.matrix_factorization.SVD at 0x1a519b9b980>"
      ]
     },
     "execution_count": 24,
     "metadata": {},
     "output_type": "execute_result"
    }
   ],
   "source": [
    "svd = SVD(n_factors= 50, reg_all=0.05)\n",
    "svd.fit(dataset)"
   ]
  },
  {
   "cell_type": "code",
   "execution_count": 25,
   "metadata": {},
   "outputs": [
    {
     "data": {
      "text/plain": [
       "Prediction(uid=2, iid=4, r_ui=None, est=3.0416296162407095, details={'was_impossible': False})"
      ]
     },
     "execution_count": 25,
     "metadata": {},
     "output_type": "execute_result"
    }
   ],
   "source": [
    "svd.predict(2, 4)"
   ]
  },
  {
   "cell_type": "markdown",
   "metadata": {},
   "source": [
    "This prediction value is a tuple and each of the values within it can be accessed by way of indexing. Now let's put our knowledge of recommendation systems to do something interesting: making predictions for a new user!"
   ]
  },
  {
   "cell_type": "markdown",
   "metadata": {},
   "source": [
    "## Obtaining User Ratings \n",
    "\n",
    "It's great that we have working models and everything, but wouldn't it be nice to get to recommendations specifically tailored to your preferences? That's what we'll be doing now. The first step is to create a function that allows us to pick randomly selected movies. The function should present users with a movie and ask them to rate it. If they have not seen the movie, they should be able to skip rating it. \n",
    "\n",
    "The function `movie_rater()` should take as parameters: \n",
    "\n",
    "* `movie_df`: DataFrame - a dataframe containing the movie ids, name of movie, and genres\n",
    "* `num`: int - number of ratings\n",
    "* `genre`: string - a specific genre from which to draw movies\n",
    "\n",
    "The function returns:\n",
    "* rating_list : list - a collection of dictionaries in the format of {'userId': int , 'movieId': int , 'rating': float}\n",
    "\n",
    "#### This function is optional, but fun :) "
   ]
  },
  {
   "cell_type": "code",
   "execution_count": 28,
   "metadata": {},
   "outputs": [],
   "source": [
    "# Step-by-step movie_rater() Implementation\n",
    "\n",
    "import random\n",
    "\n",
    "def movie_rater(movie_df, num=5, genre=None):\n",
    "    \"\"\"\n",
    "    Randomly sample movies and collect user ratings.\n",
    "    \n",
    "    Parameters:\n",
    "        movie_df (DataFrame): DataFrame with movieId, title, and genres\n",
    "        num (int): Number of movies to rate\n",
    "        genre (str): If specified, filter movies by genre\n",
    "    \n",
    "    Returns:\n",
    "        List of dictionaries with structure: {'userId': 999, 'movieId': int, 'rating': float}\n",
    "    \"\"\"\n",
    "    rating_list = []\n",
    "\n",
    "    # Filter by genre if specified\n",
    "    if genre:\n",
    "        filtered_df = movie_df[movie_df['genres'].str.contains(genre, case=False, na=False)]\n",
    "    else:\n",
    "        filtered_df = movie_df\n",
    "\n",
    "    # Randomly sample 'num' movies\n",
    "    sample_movies = filtered_df.sample(n=num)\n",
    "\n",
    "    print(\"\\nPlease rate the following movies (1 to 5 stars). Enter 0 if you haven't watched it.\\n\")\n",
    "    \n",
    "    for idx, row in sample_movies.iterrows():\n",
    "        print(f\"🎬 {row['title']} [{row['genres']}]\")\n",
    "        try:\n",
    "            rating = float(input(\"Your rating (0 if not seen): \"))\n",
    "        except ValueError:\n",
    "            rating = 0.0\n",
    "\n",
    "        if rating > 0:\n",
    "            rating_list.append({'userId': 999, 'movieId': int(row['movieId']), 'rating': rating})\n",
    "        print()  # Add space\n",
    "\n",
    "    return rating_list"
   ]
  },
  {
   "cell_type": "code",
   "execution_count": 29,
   "metadata": {
    "scrolled": true
   },
   "outputs": [
    {
     "name": "stdout",
     "output_type": "stream",
     "text": [
      "\n",
      "Please rate the following movies (1 to 5 stars). Enter 0 if you haven't watched it.\n",
      "\n",
      "🎬 Daria: Is It Fall Yet? (2000) [Animation|Comedy]\n"
     ]
    },
    {
     "name": "stdin",
     "output_type": "stream",
     "text": [
      "Your rating (0 if not seen):  1\n"
     ]
    },
    {
     "name": "stdout",
     "output_type": "stream",
     "text": [
      "\n",
      "🎬 Paul Blart: Mall Cop (2009) [Action|Comedy|Crime]\n"
     ]
    },
    {
     "name": "stdin",
     "output_type": "stream",
     "text": [
      "Your rating (0 if not seen):  2\n"
     ]
    },
    {
     "name": "stdout",
     "output_type": "stream",
     "text": [
      "\n",
      "🎬 From Dusk Till Dawn (1996) [Action|Comedy|Horror|Thriller]\n"
     ]
    },
    {
     "name": "stdin",
     "output_type": "stream",
     "text": [
      "Your rating (0 if not seen):  3\n"
     ]
    },
    {
     "name": "stdout",
     "output_type": "stream",
     "text": [
      "\n",
      "🎬 Big Trouble in Little China (1986) [Action|Adventure|Comedy|Fantasy]\n"
     ]
    },
    {
     "name": "stdin",
     "output_type": "stream",
     "text": [
      "Your rating (0 if not seen):  5\n"
     ]
    },
    {
     "name": "stdout",
     "output_type": "stream",
     "text": [
      "\n",
      "🎬 Odd Life of Timothy Green, The (2012) [Comedy|Drama|Fantasy]\n"
     ]
    },
    {
     "name": "stdin",
     "output_type": "stream",
     "text": [
      "Your rating (0 if not seen):  4\n"
     ]
    },
    {
     "name": "stdout",
     "output_type": "stream",
     "text": [
      "\n",
      "[{'userId': 999, 'movieId': 27369, 'rating': 1.0}, {'userId': 999, 'movieId': 65802, 'rating': 2.0}, {'userId': 999, 'movieId': 70, 'rating': 3.0}, {'userId': 999, 'movieId': 3740, 'rating': 5.0}, {'userId': 999, 'movieId': 96430, 'rating': 4.0}]\n"
     ]
    }
   ],
   "source": [
    "# try out the new function here!\n",
    "\n",
    "my_ratings = movie_rater(df_movies, num=5, genre='Comedy')\n",
    "print(my_ratings)"
   ]
  },
  {
   "cell_type": "markdown",
   "metadata": {},
   "source": [
    "If you're struggling to come up with the above function, you can use this list of user ratings to complete the next segment"
   ]
  },
  {
   "cell_type": "markdown",
   "metadata": {},
   "source": [
    "user_rating5"
   ]
  },
  {
   "cell_type": "markdown",
   "metadata": {},
   "source": [
    "### Making Predictions With the New Ratings\n",
    "Now that you have new ratings, you can use them to make predictions for this new user. The proper way this should work is:\n",
    "\n",
    "* add the new ratings to the original ratings DataFrame, read into a `surprise` dataset \n",
    "* train a model using the new combined DataFrame\n",
    "* make predictions for the user\n",
    "* order those predictions from highest rated to lowest rated\n",
    "* return the top n recommendations with the text of the actual movie (rather than just the index number) "
   ]
  },
  {
   "cell_type": "code",
   "execution_count": 33,
   "metadata": {},
   "outputs": [],
   "source": [
    "## add the new ratings to the original ratings DataFrame\n",
    "\n",
    "# Assuming original ratings DataFrame is df_ratings\n",
    "df_ratings = pd.read_csv('./ml-latest-small/ratings.csv')  \n",
    "\n",
    "# Suppose your `my_ratings` is a list of dicts from movie_rater()\n",
    "# Convert it to a DataFrame\n",
    "df_new_ratings = pd.DataFrame(my_ratings)\n",
    "\n",
    "# Combine with the original ratings\n",
    "df_combined = pd.concat([df_ratings, df_new_ratings], ignore_index=True)"
   ]
  },
  {
   "cell_type": "code",
   "execution_count": 34,
   "metadata": {},
   "outputs": [
    {
     "data": {
      "text/plain": [
       "<surprise.prediction_algorithms.matrix_factorization.SVD at 0x1a519e24320>"
      ]
     },
     "execution_count": 34,
     "metadata": {},
     "output_type": "execute_result"
    }
   ],
   "source": [
    "# train a model using the new combined DataFrame\n",
    "\n",
    "from surprise import Dataset, Reader\n",
    "\n",
    "# Defining a reader object\n",
    "reader = Reader(rating_scale=(0.5, 5.0))\n",
    "\n",
    "# Loading data from DataFrame\n",
    "data_combined = Dataset.load_from_df(df_combined[['userId', 'movieId', 'rating']], reader)\n",
    "\n",
    "# Building trainset\n",
    "trainset = data_combined.build_full_trainset()\n",
    "\n",
    "# Retraining the model\n",
    "svd_updated = SVD(n_factors=50, reg_all=0.05)\n",
    "svd_updated.fit(trainset)"
   ]
  },
  {
   "cell_type": "code",
   "execution_count": 35,
   "metadata": {},
   "outputs": [],
   "source": [
    "# make predictions for the user\n",
    "# you'll probably want to create a list of tuples in the format (movie_id, predicted_score)\n",
    "\n",
    "# Getting all movie IDs\n",
    "all_movie_ids = df_movies['movieId'].unique()\n",
    "\n",
    "# Finding movies the new user hasn't rated yet\n",
    "rated_movie_ids = df_new_ratings['movieId'].values\n",
    "unseen_movies = [movie_id for movie_id in all_movie_ids if movie_id not in rated_movie_ids]\n",
    "\n",
    "# Predicting ratings for all unseen movies\n",
    "predictions = [(movie_id, svd_updated.predict(999, movie_id).est) for movie_id in unseen_movies]"
   ]
  },
  {
   "cell_type": "code",
   "execution_count": 36,
   "metadata": {},
   "outputs": [],
   "source": [
    "# order the predictions from highest to lowest rated\n",
    "\n",
    "ranked_movies = ranked_movies = sorted(predictions, key=lambda x: x[1], reverse=True)"
   ]
  },
  {
   "cell_type": "markdown",
   "metadata": {},
   "source": [
    " For the final component of this challenge, it could be useful to create a function `recommended_movies()` that takes in the parameters:\n",
    "* `user_ratings`: list - list of tuples formulated as (user_id, movie_id) (should be in order of best to worst for this individual)\n",
    "* `movie_title_df`: DataFrame \n",
    "* `n`: int - number of recommended movies \n",
    "\n",
    "The function should use a `for` loop to print out each recommended *n* movies in order from best to worst"
   ]
  },
  {
   "cell_type": "code",
   "execution_count": 38,
   "metadata": {},
   "outputs": [
    {
     "name": "stdout",
     "output_type": "stream",
     "text": [
      "\n",
      "🎉 Top 5 Movie Recommendations for You:\n",
      "\n",
      "⭐ Shawshank Redemption, The (1994) — Predicted Rating: 4.28\n",
      "⭐ Dr. Strangelove or: How I Learned to Stop Worrying and Love the Bomb (1964) — Predicted Rating: 4.25\n",
      "⭐ Lawrence of Arabia (1962) — Predicted Rating: 4.23\n",
      "⭐ Grand Day Out with Wallace and Gromit, A (1989) — Predicted Rating: 4.21\n",
      "⭐ Streetcar Named Desire, A (1951) — Predicted Rating: 4.20\n"
     ]
    }
   ],
   "source": [
    "# return the top n recommendations using the \n",
    "\n",
    "# Creating recommended_movies() function\n",
    "def recommended_movies(user_ratings, movie_title_df, n=5):\n",
    "    \"\"\"\n",
    "    Prints top n recommended movies with titles.\n",
    "    \n",
    "    Parameters:\n",
    "        user_ratings (list): List of (movieId, predicted_rating)\n",
    "        movie_title_df (DataFrame): Movie metadata\n",
    "        n (int): Number of movies to recommend\n",
    "    \"\"\"\n",
    "    print(f\"\\n🎉 Top {n} Movie Recommendations for You:\\n\")\n",
    "    count = 0\n",
    "    for movie_id, score in user_ratings[:n]:\n",
    "        title = movie_title_df[movie_title_df['movieId'] == movie_id]['title'].values\n",
    "        if len(title) > 0:\n",
    "            print(f\"⭐ {title[0]} — Predicted Rating: {score:.2f}\")\n",
    "            count += 1\n",
    "        if count >= n:\n",
    "            break\n",
    "\n",
    "recommended_movies(ranked_movies,df_movies,5)"
   ]
  },
  {
   "cell_type": "markdown",
   "metadata": {},
   "source": [
    "## Level Up (Optional)\n",
    "\n",
    "* Try and chain all of the steps together into one function that asks users for ratings for a certain number of movies, then all of the above steps are performed to return the top $n$ recommendations\n",
    "* Make a recommender system that only returns items that come from a specified genre"
   ]
  },
  {
   "cell_type": "code",
   "execution_count": 40,
   "metadata": {},
   "outputs": [
    {
     "name": "stdout",
     "output_type": "stream",
     "text": [
      "\n",
      "🎬 Rate the following 5 Action movies (skip by pressing Enter):\n",
      "\n"
     ]
    },
    {
     "name": "stdin",
     "output_type": "stream",
     "text": [
      "How would you rate 'Kick-Ass (2010)' (0.5 to 5)?  5\n",
      "How would you rate 'Ballistic: Ecks vs. Sever (2002)' (0.5 to 5)?  4\n",
      "How would you rate 'Jupiter Ascending (2015)' (0.5 to 5)?  6\n",
      "How would you rate 'I Am Number Four (2011)' (0.5 to 5)?  4\n",
      "How would you rate 'Money Talks (1997)' (0.5 to 5)?  3\n"
     ]
    },
    {
     "name": "stdout",
     "output_type": "stream",
     "text": [
      "\n",
      "🎯 Top 5 Recommended Action Movies for You:\n",
      "\n",
      "⭐ Great Escape, The (1963) — Predicted Rating: 4.52\n",
      "⭐ North by Northwest (1959) — Predicted Rating: 4.45\n",
      "⭐ Fight Club (1999) — Predicted Rating: 4.45\n",
      "⭐ Laputa: Castle in the Sky (Tenkû no shiro Rapyuta) (1986) — Predicted Rating: 4.42\n",
      "⭐ Apocalypse Now (1979) — Predicted Rating: 4.40\n"
     ]
    }
   ],
   "source": [
    "# Full Recommender System by Genre\n",
    "\n",
    "import pandas as pd\n",
    "import random\n",
    "from surprise import SVD, Dataset, Reader\n",
    "from surprise.model_selection import cross_validate\n",
    "\n",
    "# Loading movie metadata\n",
    "df_movies = pd.read_csv('./ml-latest-small/movies.csv')\n",
    "df_ratings = pd.read_csv('./ml-latest-small/ratings.csv')\n",
    "\n",
    "def movie_rater(movie_df, num=5, genre=None):\n",
    "    \"\"\"\n",
    "    Presents a user with random movies from a genre and asks for ratings.\n",
    "    \"\"\"\n",
    "    if genre:\n",
    "        movie_df = movie_df[movie_df['genres'].str.contains(genre, case=False, na=False)]\n",
    "\n",
    "    selected_movies = movie_df.sample(num)\n",
    "    ratings = []\n",
    "\n",
    "    print(f\"\\n🎬 Rate the following {num} {genre} movies (skip by pressing Enter):\\n\")\n",
    "\n",
    "    for _, row in selected_movies.iterrows():\n",
    "        try:\n",
    "            user_input = input(f\"How would you rate '{row['title']}' (0.5 to 5)? \")\n",
    "            if user_input.strip() == '':\n",
    "                continue\n",
    "            rating = float(user_input)\n",
    "            if 0.5 <= rating <= 5.0:\n",
    "                ratings.append({'userId': 999, 'movieId': int(row['movieId']), 'rating': rating})\n",
    "        except ValueError:\n",
    "            print(\"❌ Invalid input. Skipping this movie.\")\n",
    "            continue\n",
    "\n",
    "    return ratings\n",
    "\n",
    "def genre_recommender_system(num_ratings=5, genre='Comedy', top_n=5):\n",
    "    \"\"\"\n",
    "    Main function: asks user for movie ratings, retrains model, and recommends movies of a chosen genre.\n",
    "    \"\"\"\n",
    "    # Getting user ratings\n",
    "    user_ratings = movie_rater(df_movies, num=num_ratings, genre=genre)\n",
    "\n",
    "    if not user_ratings:\n",
    "        print(\"⚠️ No ratings provided. Cannot make recommendations.\")\n",
    "        return\n",
    "\n",
    "    df_new_ratings = pd.DataFrame(user_ratings)\n",
    "    \n",
    "    # CombinIing with original ratings\n",
    "    df_combined = pd.concat([df_ratings, df_new_ratings], ignore_index=True)\n",
    "\n",
    "    # Training model\n",
    "    reader = Reader(rating_scale=(0.5, 5.0))\n",
    "    data = Dataset.load_from_df(df_combined[['userId', 'movieId', 'rating']], reader)\n",
    "    trainset = data.build_full_trainset()\n",
    "\n",
    "    svd = SVD(n_factors=50, reg_all=0.05)\n",
    "    svd.fit(trainset)\n",
    "\n",
    "    # Predicting on unseen movies from the same genre\n",
    "    seen_movies = df_new_ratings['movieId'].unique()\n",
    "    genre_movies = df_movies[df_movies['genres'].str.contains(genre, case=False, na=False)]\n",
    "    unseen_movies = genre_movies[~genre_movies['movieId'].isin(seen_movies)]\n",
    "\n",
    "    predictions = []\n",
    "    for movie_id in unseen_movies['movieId'].values:\n",
    "        est_rating = svd.predict(999, movie_id).est\n",
    "        predictions.append((movie_id, est_rating))\n",
    "\n",
    "    # Sorting predictions and display top N\n",
    "    ranked_movies = sorted(predictions, key=lambda x: x[1], reverse=True)[:top_n]\n",
    "\n",
    "    print(f\"\\n🎯 Top {top_n} Recommended {genre} Movies for You:\\n\")\n",
    "    for movie_id, rating in ranked_movies:\n",
    "        title = df_movies.loc[df_movies['movieId'] == movie_id, 'title'].values[0]\n",
    "        print(f\"⭐ {title} — Predicted Rating: {rating:.2f}\")\n",
    "\n",
    "# Example:\n",
    "genre_recommender_system(num_ratings=5, genre='Action', top_n=5)"
   ]
  },
  {
   "cell_type": "markdown",
   "metadata": {},
   "source": [
    "## Summary\n",
    "\n",
    "In this lab, you got the chance to implement a collaborative filtering model as well as retrieve recommendations from that model. You also got the opportunity to add your own recommendations to the system to get new recommendations for yourself! Next, you will learn how to use Spark to make recommender systems."
   ]
  }
 ],
 "metadata": {
  "kernelspec": {
   "display_name": "Python [conda env:base] *",
   "language": "python",
   "name": "conda-base-py"
  },
  "language_info": {
   "codemirror_mode": {
    "name": "ipython",
    "version": 3
   },
   "file_extension": ".py",
   "mimetype": "text/x-python",
   "name": "python",
   "nbconvert_exporter": "python",
   "pygments_lexer": "ipython3",
   "version": "3.12.3"
  },
  "toc": {
   "base_numbering": 1,
   "nav_menu": {},
   "number_sections": true,
   "sideBar": true,
   "skip_h1_title": false,
   "title_cell": "Table of Contents",
   "title_sidebar": "Contents",
   "toc_cell": false,
   "toc_position": {},
   "toc_section_display": true,
   "toc_window_display": false
  }
 },
 "nbformat": 4,
 "nbformat_minor": 4
}
